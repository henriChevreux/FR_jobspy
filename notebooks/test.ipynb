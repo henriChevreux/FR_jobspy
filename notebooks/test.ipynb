{
 "cells": [
  {
   "cell_type": "code",
   "execution_count": null,
   "id": "be4bb1dd",
   "metadata": {},
   "outputs": [
    {
     "name": "stderr",
     "output_type": "stream",
     "text": [
      "2025-07-20 15:43:12,388 - ERROR - JobSpy:Glassdoor - Glassdoor response status code 403\n",
      "2025-07-20 15:43:12,389 - ERROR - JobSpy:Glassdoor - Glassdoor: location not parsed\n",
      "2025-07-20 15:43:24,270 - INFO - JobSpy:Linkedin - finished scraping\n"
     ]
    },
    {
     "name": "stdout",
     "output_type": "stream",
     "text": [
      "Found 32 jobs\n",
      "                    id    site  \\\n",
      "0  in-362607b2693415ab  indeed   \n",
      "1  in-ffd94d6e0bd5d98c  indeed   \n",
      "2  in-7ba72ab5fe865df0  indeed   \n",
      "3  in-ecbe933972fecbd6  indeed   \n",
      "4  in-8af2d3262b512c09  indeed   \n",
      "\n",
      "                                             job_url  \\\n",
      "0  https://fr.indeed.com/viewjob?jk=362607b2693415ab   \n",
      "1  https://fr.indeed.com/viewjob?jk=ffd94d6e0bd5d98c   \n",
      "2  https://fr.indeed.com/viewjob?jk=7ba72ab5fe865df0   \n",
      "3  https://fr.indeed.com/viewjob?jk=ecbe933972fecbd6   \n",
      "4  https://fr.indeed.com/viewjob?jk=8af2d3262b512c09   \n",
      "\n",
      "                                      job_url_direct  \\\n",
      "0    https://besedo.com/company/career/?jobid=298436   \n",
      "1  http://fr.indeed.com/job/ai-engineer-ingenieur...   \n",
      "2  https://taleez.com/apply/machine-learning-engi...   \n",
      "3  https://taleez.com/apply/lead-machine-learning...   \n",
      "4  https://careers.criteo.com/en/jobs/r14933/mach...   \n",
      "\n",
      "                                               title         company  \\\n",
      "0  AI & Data Science Intern (Apprenticeship / Alt...    Besedo Paris   \n",
      "1                     AI ENGINEER - INGENIEUR IA H/F  Pro'G Traiteur   \n",
      "2  Machine Learning Engineer spécialisé en Comput...       Pictarine   \n",
      "3                     Lead Machine Learning Engineer       Pictarine   \n",
      "4                   Machine Learning Engineer Intern          Criteo   \n",
      "\n",
      "                  location date_posted    job_type salary_source  ...  \\\n",
      "0            Paris, A8, FR  2025-07-18  internship          None  ...   \n",
      "1  Moissy-Cramayel, A8, FR  2025-07-18    fulltime          None  ...   \n",
      "2            Labège, O, FR  2025-07-11    fulltime          None  ...   \n",
      "3            Labège, O, FR  2025-07-11    fulltime          None  ...   \n",
      "4            Paris, A8, FR  2025-07-10  internship          None  ...   \n",
      "\n",
      "  company_addresses company_num_employees   company_revenue  \\\n",
      "0               NaN                   NaN               NaN   \n",
      "1               NaN                   NaN               NaN   \n",
      "2               NaN                   NaN               NaN   \n",
      "3               NaN                   NaN               NaN   \n",
      "4             Paris        1,001 to 5,000  $1B to $5B (USD)   \n",
      "\n",
      "                                 company_description  skills experience_range  \\\n",
      "0                                                NaN    None             None   \n",
      "1                                                NaN    None             None   \n",
      "2                                                NaN    None             None   \n",
      "3                                                NaN    None             None   \n",
      "4  Our mission is to power the world’s marketers ...    None             None   \n",
      "\n",
      "  company_rating company_reviews_count vacancy_count work_from_home_type  \n",
      "0           None                  None          None                None  \n",
      "1           None                  None          None                None  \n",
      "2           None                  None          None                None  \n",
      "3           None                  None          None                None  \n",
      "4           None                  None          None                None  \n",
      "\n",
      "[5 rows x 34 columns]\n"
     ]
    }
   ],
   "source": [
    "import csv\n",
    "from jobspy import scrape_jobs\n",
    "\n",
    "jobs = scrape_jobs(\n",
    "    site_name=[\"indeed\", \"linkedin\", \"glassdoor\", \"google\", \"naukri\"],\n",
    "    search_term='AI (scientist OR engineer OR Engineer OR Data Scientist OR Data Analyst OR Data Engineer OR Data Science OR Scientist OR Software Engineer OR Machine Learning Engineer OR Data Science Intern OR Data Analyst Intern OR Data Engineer Intern OR Machine Learning Engineer Intern OR Software Engineer Intern) -India',\n",
    "    google_search_term=\"AI engineer internship jobs in France since last month\",\n",
    "    location=\"France*\",\n",
    "    results_wanted=100,\n",
    "    hours_old=730,\n",
    "    country_indeed='France'\n",
    ")\n",
    "print(f\"Found {len(jobs)} jobs\")\n",
    "print(jobs.head())\n",
    "jobs.to_csv(\"jobs.csv\", quoting=csv.QUOTE_NONNUMERIC, escapechar=\"\\\\\", index=False) # to_excel"
   ]
  },
  {
   "cell_type": "code",
   "execution_count": 2,
   "id": "4fb5efbd",
   "metadata": {},
   "outputs": [
    {
     "name": "stdout",
     "output_type": "stream",
     "text": [
      "| title                                                               | company                | location                                   | job_type   | job_url                                           |   days_since_posted |\n",
      "|:--------------------------------------------------------------------|:-----------------------|:-------------------------------------------|:-----------|:--------------------------------------------------|--------------------:|\n",
      "| AI & Data Science Intern (Apprenticeship / Alternance)              | Besedo Paris           | Paris, A8, FR                              | internship | https://fr.indeed.com/viewjob?jk=362607b2693415ab |                   2 |\n",
      "| AI ENGINEER - INGENIEUR IA H/F                                      | Pro'G Traiteur         | Moissy-Cramayel, A8, FR                    | fulltime   | https://fr.indeed.com/viewjob?jk=ffd94d6e0bd5d98c |                   2 |\n",
      "| Machine Learning Engineer spécialisé en Computer Vision             | Pictarine              | Labège, O, FR                              | fulltime   | https://fr.indeed.com/viewjob?jk=7ba72ab5fe865df0 |                   9 |\n",
      "| Lead Machine Learning Engineer                                      | Pictarine              | Labège, O, FR                              | fulltime   | https://fr.indeed.com/viewjob?jk=ecbe933972fecbd6 |                   9 |\n",
      "| Machine Learning Engineer Intern                                    | Criteo                 | Paris, A8, FR                              | internship | https://fr.indeed.com/viewjob?jk=8af2d3262b512c09 |                  10 |\n",
      "| AI Product Manager                                                  | EY                     | Paris, A8, FR                              | nan        | https://fr.indeed.com/viewjob?jk=b88cd97d92cf6e05 |                  13 |\n",
      "| AI/ML Engineer (H/F)                                                | Ippon                  | Nantes, B5, FR                             | fulltime   | https://fr.indeed.com/viewjob?jk=0592a987ad6a689f |                  19 |\n",
      "| Machine Learning Researcher - Internship - Paris                    | Wiremind               | Paris, A8, FR                              | internship | https://fr.indeed.com/viewjob?jk=15ff4d813106062a |                  20 |\n",
      "| Staff Backend AI Engineer                                           | Ornikar                | Paris, A8, FR                              | nan        | https://fr.indeed.com/viewjob?jk=ad0eb19ce27e7216 |                  26 |\n",
      "| Machine Learning Engineer - F/H/N                                   | Lifen                  | Paris, A8, FR                              | nan        | https://fr.indeed.com/viewjob?jk=b7dd3c90681cd689 |                  27 |\n",
      "| AI / LM Engineer                                                    | Groupe SII             | Lille, HDF, FR                             | nan        | https://fr.indeed.com/viewjob?jk=62958c9ddfe8692b |                  27 |\n",
      "| Développeur DevOps confirmé H/F                                     | ISAGRI                 | Beauvais, HDF, FR                          | nan        | https://fr.indeed.com/viewjob?jk=3551fd1344dfae3b |                  29 |\n",
      "| Growth Engineer Intern                                              | Brevo                  | Paris, Île-de-France, France               | nan        | https://www.linkedin.com/jobs/view/4267883917     |                   1 |\n",
      "| ML Scientist for Chemisty                                           | Entalpic               | Paris, Île-de-France, France               | nan        | https://www.linkedin.com/jobs/view/4268614978     |                   3 |\n",
      "| Machine Learning Engineer Intern                                    | Criteo                 | Paris, Île-de-France, France               | nan        | https://www.linkedin.com/jobs/view/4268192322     |                   3 |\n",
      "| Data Scientist H/F – contrat d’alternance                           | MSD France             | Paris, Île-de-France, France               | nan        | https://www.linkedin.com/jobs/view/4212328864     |                   3 |\n",
      "| Machine Learning Engineer - Internship (6 months) - September, 2025 | Prose                  | Paris, Île-de-France, France               | nan        | https://www.linkedin.com/jobs/view/4268605339     |                   3 |\n",
      "| SOFTWARE ENGINEER INTERN (M/F/D)                                    | STATION F              | Paris, Île-de-France, France               | nan        | https://www.linkedin.com/jobs/view/4268207226     |                   3 |\n",
      "| AI Engineer/Data Scientist Internship                               | Alphaguard             | Paris, Île-de-France, France               | nan        | https://www.linkedin.com/jobs/view/4267021525     |                   4 |\n",
      "| Applied scientist intern                                            | Rakuten                | Paris, Île-de-France, France               | nan        | https://www.linkedin.com/jobs/view/4267684330     |                   4 |\n",
      "| Back-End & Data Engineer [internship]                               | Vianova I/O            | Paris, Île-de-France, France               | nan        | https://www.linkedin.com/jobs/view/4267022401     |                   4 |\n",
      "| Front-end/Full-stack engineer Internship                            | Alphaguard             | Paris, Île-de-France, France               | nan        | https://www.linkedin.com/jobs/view/4267018741     |                   4 |\n",
      "| Intern Data Scientist: International Trade Flows                    | QuantCube Technology   | Paris, Île-de-France, France               | nan        | https://www.linkedin.com/jobs/view/4266724282     |                   5 |\n",
      "| BACK-END & DATA ENGINEER [INTERNSHIP]                               | Le Village by CA Paris | Paris, Île-de-France, France               | nan        | https://www.linkedin.com/jobs/view/4267366162     |                   5 |\n",
      "| Applied AI Engineer, Use-case - Paris (Internship)                  | Mistral AI             | Paris, Île-de-France, France               | nan        | https://www.linkedin.com/jobs/view/4263000813     |                   9 |\n",
      "| AI Engineer Intern – Product Support                                | SITA                   | Paris, Île-de-France, France               | nan        | https://www.linkedin.com/jobs/view/4264716536     |                  11 |\n",
      "| ALTERNANCE - Software Engineer                                      | AXA Group Operations   | Paris, Île-de-France, France               | nan        | https://www.linkedin.com/jobs/view/4254350157     |                  25 |\n",
      "| Data Engineer Intern (pour une durée de 3 à 6 mois, ASAP)           | HONOR                  | Issy-les-Moulineaux, Île-de-France, France | nan        | https://www.linkedin.com/jobs/view/4256037656     |                  26 |\n",
      "| Data Scientist (Intern)                                             | Metreecs (YC F24)      | Paris, Île-de-France, France               | nan        | https://www.linkedin.com/jobs/view/4253667008     |                  30 |\n",
      "| Data Scientist: France                                              | Shift Technology       | Paris, Île-de-France, France               | nan        | https://www.linkedin.com/jobs/view/4079798154     |                  30 |\n",
      "| Research Scientist Intern                                           | GenBio AI              | Paris, Île-de-France, France               | nan        | https://www.linkedin.com/jobs/view/4269980103     |                   0 |\n",
      "| Research Engineer Intern                                            | GenBio AI              | Paris, Île-de-France, France               | nan        | https://www.linkedin.com/jobs/view/4269978425     |                   0 |\n"
     ]
    }
   ],
   "source": [
    "import pandas as pd\n",
    "from datetime import datetime\n",
    "\n",
    "# Calculate days since posted\n",
    "jobs = jobs.copy()\n",
    "jobs[\"days_since_posted\"] = (pd.Timestamp.now() - pd.to_datetime(jobs[\"date_posted\"])).dt.days\n",
    "# nan means 0 days\n",
    "jobs[\"days_since_posted\"] = jobs[\"days_since_posted\"].fillna(0).astype(int)\n",
    "\n",
    "core_columns = [\"title\", \"company\", \"location\", \"job_type\", \"job_url\", \"days_since_posted\"]\n",
    "md_table = jobs[core_columns].to_markdown(index=False)\n",
    "print(md_table)"
   ]
  }
 ],
 "metadata": {
  "kernelspec": {
   "display_name": ".venv",
   "language": "python",
   "name": "python3"
  },
  "language_info": {
   "codemirror_mode": {
    "name": "ipython",
    "version": 3
   },
   "file_extension": ".py",
   "mimetype": "text/x-python",
   "name": "python",
   "nbconvert_exporter": "python",
   "pygments_lexer": "ipython3",
   "version": "3.13.2"
  }
 },
 "nbformat": 4,
 "nbformat_minor": 5
}
